{
 "cells": [
  {
   "cell_type": "code",
   "execution_count": null,
   "id": "initial_id",
   "metadata": {
    "ExecuteTime": {
     "end_time": "2025-09-11T16:32:11.237398Z",
     "start_time": "2025-09-11T16:32:11.140947Z"
    },
    "collapsed": true
   },
   "outputs": [
    {
     "name": "stdout",
     "output_type": "stream",
     "text": [
      "<class 'pandas.core.frame.DataFrame'>\n",
      "RangeIndex: 25976 entries, 0 to 25975\n",
      "Data columns (total 25 columns):\n",
      " #   Column                             Non-Null Count  Dtype  \n",
      "---  ------                             --------------  -----  \n",
      " 0   Unnamed: 0                         25976 non-null  int64  \n",
      " 1   id                                 25976 non-null  int64  \n",
      " 2   Gender                             25976 non-null  object \n",
      " 3   Customer Type                      25976 non-null  object \n",
      " 4   Age                                25976 non-null  int64  \n",
      " 5   Type of Travel                     25976 non-null  object \n",
      " 6   Class                              25976 non-null  object \n",
      " 7   Flight Distance                    25976 non-null  int64  \n",
      " 8   Inflight wifi service              25976 non-null  int64  \n",
      " 9   Departure/Arrival time convenient  25976 non-null  int64  \n",
      " 10  Ease of Online booking             25976 non-null  int64  \n",
      " 11  Gate location                      25976 non-null  int64  \n",
      " 12  Food and drink                     25976 non-null  int64  \n",
      " 13  Online boarding                    25976 non-null  int64  \n",
      " 14  Seat comfort                       25976 non-null  int64  \n",
      " 15  Inflight entertainment             25976 non-null  int64  \n",
      " 16  On-board service                   25976 non-null  int64  \n",
      " 17  Leg room service                   25976 non-null  int64  \n",
      " 18  Baggage handling                   25976 non-null  int64  \n",
      " 19  Checkin service                    25976 non-null  int64  \n",
      " 20  Inflight service                   25976 non-null  int64  \n",
      " 21  Cleanliness                        25976 non-null  int64  \n",
      " 22  Departure Delay in Minutes         25976 non-null  int64  \n",
      " 23  Arrival Delay in Minutes           25893 non-null  float64\n",
      " 24  satisfaction                       25976 non-null  object \n",
      "dtypes: float64(1), int64(19), object(5)\n",
      "memory usage: 5.0+ MB\n"
     ]
    },
    {
     "data": {
      "text/plain": [
       "Unnamed: 0                            0\n",
       "id                                    0\n",
       "Gender                                0\n",
       "Customer Type                         0\n",
       "Age                                   0\n",
       "Type of Travel                        0\n",
       "Class                                 0\n",
       "Flight Distance                       0\n",
       "Inflight wifi service                 0\n",
       "Departure/Arrival time convenient     0\n",
       "Ease of Online booking                0\n",
       "Gate location                         0\n",
       "Food and drink                        0\n",
       "Online boarding                       0\n",
       "Seat comfort                          0\n",
       "Inflight entertainment                0\n",
       "On-board service                      0\n",
       "Leg room service                      0\n",
       "Baggage handling                      0\n",
       "Checkin service                       0\n",
       "Inflight service                      0\n",
       "Cleanliness                           0\n",
       "Departure Delay in Minutes            0\n",
       "Arrival Delay in Minutes             83\n",
       "satisfaction                          0\n",
       "dtype: int64"
      ]
     },
     "execution_count": 5,
     "metadata": {},
     "output_type": "execute_result"
    }
   ],
   "source": [
    "import pandas as pd\n",
    "#ahmet hakanı sikeyim\n",
    "\n",
    "df = pd.read_csv(\"../data/raw/raw-data.csv\") #df assigned as dataset\n",
    "\n",
    "#general info about the dataset (column and line count, column data type, null count etc.)\n",
    "df.info()\n",
    "\n",
    "# Returns mean, std, min, max, 25-50-75 percentiles for numerical columns, checks extreme values\n",
    "df.describe()\n",
    "\n",
    "## Shows NaN count per column; drop if too many, fill (mean/median/mode) if few\n",
    "df.isnull().sum()"
   ]
  }
 ],
 "metadata": {
  "kernelspec": {
   "display_name": "Python 3",
   "language": "python",
   "name": "python3"
  },
  "language_info": {
   "codemirror_mode": {
    "name": "ipython",
    "version": 2
   },
   "file_extension": ".py",
   "mimetype": "text/x-python",
   "name": "python",
   "nbconvert_exporter": "python",
   "pygments_lexer": "ipython2",
   "version": "2.7.6"
  }
 },
 "nbformat": 4,
 "nbformat_minor": 5
}
